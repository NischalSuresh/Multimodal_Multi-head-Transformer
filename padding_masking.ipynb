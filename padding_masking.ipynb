{
  "nbformat": 4,
  "nbformat_minor": 0,
  "metadata": {
    "colab": {
      "provenance": []
    },
    "kernelspec": {
      "name": "python3",
      "display_name": "Python 3"
    },
    "language_info": {
      "name": "python"
    }
  },
  "cells": [
    {
      "cell_type": "code",
      "execution_count": 1,
      "metadata": {
        "colab": {
          "base_uri": "https://localhost:8080/"
        },
        "id": "CI0X-uDItlJo",
        "outputId": "8ce28a01-25ad-4877-a357-f8342e07bdd5"
      },
      "outputs": [
        {
          "output_type": "stream",
          "name": "stdout",
          "text": [
            "Padded sequences:\n",
            " tensor([[1, 2, 3, 0],\n",
            "        [4, 5, 0, 0],\n",
            "        [6, 7, 8, 9]])\n",
            "Mask:\n",
            " tensor([[1., 1., 1., 0.],\n",
            "        [1., 1., 0., 0.],\n",
            "        [1., 1., 1., 1.]])\n"
          ]
        }
      ],
      "source": [
        "import torch\n",
        "\n",
        "# Create a batch of sequences with different lengths\n",
        "sequences = [\n",
        "    [1, 2, 3],\n",
        "    [4, 5],\n",
        "    [6, 7, 8, 9],\n",
        "]\n",
        "\n",
        "# Pad the sequences with zeros to make them the same length\n",
        "padded_sequences = torch.nn.utils.rnn.pad_sequence(\n",
        "    [torch.tensor(seq) for seq in sequences], batch_first=True)\n",
        "\n",
        "# Create a mask to ignore the padded tokens during computation\n",
        "mask = (padded_sequences != 0).float()\n",
        "\n",
        "# Print the padded sequences and mask\n",
        "print(\"Padded sequences:\\n\", padded_sequences)\n",
        "print(\"Mask:\\n\", mask)"
      ]
    },
    {
      "cell_type": "code",
      "source": [],
      "metadata": {
        "id": "bE2e4PHOtpqN"
      },
      "execution_count": null,
      "outputs": []
    }
  ]
}